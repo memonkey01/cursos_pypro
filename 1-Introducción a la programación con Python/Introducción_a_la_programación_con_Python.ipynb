{
  "nbformat": 4,
  "nbformat_minor": 0,
  "metadata": {
    "colab": {
      "provenance": [],
      "collapsed_sections": [
        "lIpgznC8rwKS",
        "vQmh5k10xUrn",
        "7U5qfIYruQA2",
        "tcde0O4cuoOe",
        "QR6IMs5auy62"
      ],
      "toc_visible": true
    },
    "kernelspec": {
      "name": "python3",
      "display_name": "Python 3"
    },
    "language_info": {
      "name": "python"
    }
  },
  "cells": [
    {
      "cell_type": "markdown",
      "source": [
        "![Alt text](https://www.pypro.mx/static/proton_admin_theme/img/pypro_logo.png \"PyPro Logo\")\n"
      ],
      "metadata": {
        "id": "z1y5RCFgsRXV"
      }
    },
    {
      "cell_type": "markdown",
      "source": [
        "# Introducción a la programación con Python\n",
        "\n",
        "En este curso aprenderás cómo crear programas simples utilizando comandos básicos de Python, cómo trabajar con datos y cómo utilizar estructuras de control de flujo de programa para tomar decisiones lógicas.\n",
        "\n",
        "Todo el contenido lo puedes encontrar en:\n",
        "\n",
        "🔥 www.pypro.mx\n",
        "\n",
        "### Link al Curso\n",
        "🔥🔥🔥 https://www.pypro.mx/app/curso/introduccion-a-la-programacion-con-python\n",
        "\n",
        "- Si te gusta el contenido del canal, invitame un café en https://www.buymeacoffee.com/pypro\n",
        "\n",
        "\n",
        "\n",
        "<details>\n",
        "  <summary>Contenido</summary>\n",
        "  <ol>\n",
        "    <li>\n",
        "      <a href=\"#tipos-de-datos\">Fundamentos de la programación: variables, tipos de datos y operadores.</a>\n",
        "    </li>\n",
        "    <li>\n",
        "      <a href=\"#control-de-flujo\">Control de flujo: condicionales y bucles.</a>\n",
        "    </li>\n",
        "    <li>\n",
        "      <a href=\"#funciones\">Funciones y módulos en Python.</a>\n",
        "    </li>\n",
        "    <li>\n",
        "      <a href=\"#estructuras\">Estructuras de datos: listas, tuplas y diccionarios.</a>\n",
        "    </li>\n",
        "    <li>\n",
        "      <a href=\"#entrada\">Entrada y salida de datos en Python.</a>\n",
        "    </li>\n",
        "    <li>\n",
        "      <a href=\"#excepciones\">Manejo de excepciones y errores.</a>\n",
        "    </li>\n",
        "    <li>\n",
        "      <a href=\"#objetos\">Programación orientada a objetos en Python.</a>\n",
        "    </li>\n",
        "    <li>\n",
        "      <a href=\"#algoritmos\">Algoritmos básicos de clasificación y búsqueda en Python.</a>\n",
        "    </li>\n",
        "  </ol>\n",
        "</details>\n"
      ],
      "metadata": {
        "id": "-J1gZRUysQbq"
      }
    },
    {
      "cell_type": "markdown",
      "source": [
        "<a name=\"tipos-de-datos\"></a>\n",
        "# 👉 Fundamentos de la programación: variables, tipos de datos y operadores.\n"
      ],
      "metadata": {
        "id": "lIpgznC8rwKS"
      }
    },
    {
      "cell_type": "markdown",
      "source": [
        "### Variables"
      ],
      "metadata": {
        "id": "McXfyIguyKvW"
      }
    },
    {
      "cell_type": "code",
      "source": [
        "foo = 1\n",
        "var = 2\n",
        "c, d = [1,3]"
      ],
      "metadata": {
        "id": "oQmHFsRbyRRY"
      },
      "execution_count": null,
      "outputs": []
    },
    {
      "cell_type": "markdown",
      "source": [
        "### Tipos de Datos"
      ],
      "metadata": {
        "id": "vUw0YwmOyEpy"
      }
    },
    {
      "cell_type": "markdown",
      "source": [
        "#### Cadenas - Strings"
      ],
      "metadata": {
        "id": "vQmh5k10xUrn"
      }
    },
    {
      "cell_type": "code",
      "source": [
        "a = 'hola mundo'\n",
        "print(a)"
      ],
      "metadata": {
        "colab": {
          "base_uri": "https://localhost:8080/"
        },
        "id": "blsRfP-ht2AW",
        "outputId": "3be8d402-0a81-4cd7-f076-81293ad779b2"
      },
      "execution_count": null,
      "outputs": [
        {
          "output_type": "stream",
          "name": "stdout",
          "text": [
            "hola mundo\n"
          ]
        }
      ]
    },
    {
      "cell_type": "code",
      "source": [
        "b = 'soy un pro'\n"
      ],
      "metadata": {
        "id": "8NePvMqBt6zj"
      },
      "execution_count": null,
      "outputs": []
    },
    {
      "cell_type": "code",
      "source": [
        "c = a + ' ' + b\n",
        "c"
      ],
      "metadata": {
        "colab": {
          "base_uri": "https://localhost:8080/"
        },
        "id": "x6XOm8uAt_5I",
        "outputId": "78eb64cb-d1ca-4006-b26a-ad6cba26d1d9"
      },
      "execution_count": null,
      "outputs": [
        {
          "output_type": "execute_result",
          "data": {
            "text/plain": [
              "'hola mundo soy un pro'"
            ],
            "application/vnd.google.colaboratory.intrinsic+json": {
              "type": "string"
            }
          },
          "metadata": {},
          "execution_count": 4
        }
      ]
    },
    {
      "cell_type": "code",
      "source": [
        "d = c[0:5]\n",
        "d"
      ],
      "metadata": {
        "colab": {
          "base_uri": "https://localhost:8080/"
        },
        "id": "GOC4So2suBsp",
        "outputId": "07e7f2d7-8581-4b3a-ca21-9e35ae8ffcb6"
      },
      "execution_count": null,
      "outputs": [
        {
          "output_type": "execute_result",
          "data": {
            "text/plain": [
              "'hola '"
            ],
            "application/vnd.google.colaboratory.intrinsic+json": {
              "type": "string"
            }
          },
          "metadata": {},
          "execution_count": 5
        }
      ]
    },
    {
      "cell_type": "code",
      "source": [
        "e = a.upper()\n",
        "e"
      ],
      "metadata": {
        "colab": {
          "base_uri": "https://localhost:8080/"
        },
        "id": "ejBEn9BpuDm-",
        "outputId": "42d3a376-b63d-4546-d950-155457ccf086"
      },
      "execution_count": null,
      "outputs": [
        {
          "output_type": "execute_result",
          "data": {
            "text/plain": [
              "'HOLA MUNDO'"
            ],
            "application/vnd.google.colaboratory.intrinsic+json": {
              "type": "string"
            }
          },
          "metadata": {},
          "execution_count": 6
        }
      ]
    },
    {
      "cell_type": "code",
      "source": [
        "e.lower()"
      ],
      "metadata": {
        "colab": {
          "base_uri": "https://localhost:8080/"
        },
        "id": "dA6HEvfmuG_A",
        "outputId": "bd8f598c-10c3-4484-e9fd-fad8735d48e1"
      },
      "execution_count": null,
      "outputs": [
        {
          "output_type": "execute_result",
          "data": {
            "text/plain": [
              "'hola mundo'"
            ],
            "application/vnd.google.colaboratory.intrinsic+json": {
              "type": "string"
            }
          },
          "metadata": {},
          "execution_count": 7
        }
      ]
    },
    {
      "cell_type": "code",
      "source": [
        "f = a.join(b)\n",
        "f"
      ],
      "metadata": {
        "colab": {
          "base_uri": "https://localhost:8080/"
        },
        "id": "9onLkN9KuJAm",
        "outputId": "5eee6c8a-840b-483c-c136-d57e318dfd85"
      },
      "execution_count": null,
      "outputs": [
        {
          "output_type": "execute_result",
          "data": {
            "text/plain": [
              "'shola mundoohola mundoyhola mundo hola mundouhola mundonhola mundo hola mundophola mundorhola mundoo'"
            ],
            "application/vnd.google.colaboratory.intrinsic+json": {
              "type": "string"
            }
          },
          "metadata": {},
          "execution_count": 8
        }
      ]
    },
    {
      "cell_type": "code",
      "source": [
        "print('Hola mundo {}, estoy aprendiendo {}'.format(e,a))"
      ],
      "metadata": {
        "colab": {
          "base_uri": "https://localhost:8080/"
        },
        "id": "Y5_ugEeouKuB",
        "outputId": "59b24c6e-8e90-42c2-88a5-61a3d208fb3b"
      },
      "execution_count": null,
      "outputs": [
        {
          "output_type": "stream",
          "name": "stdout",
          "text": [
            "Hola mundo HOLA MUNDO, estoy aprendiendo hola mundo\n"
          ]
        }
      ]
    },
    {
      "cell_type": "code",
      "source": [
        "f.split('o')"
      ],
      "metadata": {
        "colab": {
          "base_uri": "https://localhost:8080/"
        },
        "id": "5UmnplTDuMlo",
        "outputId": "7dbafc96-8ce9-4c8a-a56c-5589f4b5d4d0"
      },
      "execution_count": null,
      "outputs": [
        {
          "output_type": "execute_result",
          "data": {
            "text/plain": [
              "['sh',\n",
              " 'la mund',\n",
              " '',\n",
              " 'h',\n",
              " 'la mund',\n",
              " 'yh',\n",
              " 'la mund',\n",
              " ' h',\n",
              " 'la mund',\n",
              " 'uh',\n",
              " 'la mund',\n",
              " 'nh',\n",
              " 'la mund',\n",
              " ' h',\n",
              " 'la mund',\n",
              " 'ph',\n",
              " 'la mund',\n",
              " 'rh',\n",
              " 'la mund',\n",
              " '',\n",
              " '']"
            ]
          },
          "metadata": {},
          "execution_count": 10
        }
      ]
    },
    {
      "cell_type": "markdown",
      "source": [
        "#### Enteros"
      ],
      "metadata": {
        "id": "7U5qfIYruQA2"
      }
    },
    {
      "cell_type": "code",
      "source": [
        "1+2"
      ],
      "metadata": {
        "colab": {
          "base_uri": "https://localhost:8080/"
        },
        "id": "ysqOdZ8LuOm4",
        "outputId": "6b94d438-4c85-4775-ee8a-3bdf09444962"
      },
      "execution_count": null,
      "outputs": [
        {
          "output_type": "execute_result",
          "data": {
            "text/plain": [
              "3"
            ]
          },
          "metadata": {},
          "execution_count": 11
        }
      ]
    },
    {
      "cell_type": "code",
      "source": [
        "var = 1 + 5\n",
        "print(type(var))"
      ],
      "metadata": {
        "colab": {
          "base_uri": "https://localhost:8080/"
        },
        "id": "ofpuXbwgudV4",
        "outputId": "6794517a-f8b4-4f56-d043-0daf4d490cf6"
      },
      "execution_count": null,
      "outputs": [
        {
          "output_type": "stream",
          "name": "stdout",
          "text": [
            "<class 'int'>\n"
          ]
        }
      ]
    },
    {
      "cell_type": "code",
      "source": [
        "foo = 1 - 1\n",
        "foo"
      ],
      "metadata": {
        "colab": {
          "base_uri": "https://localhost:8080/"
        },
        "id": "SC2_EFcwufEY",
        "outputId": "6491ae48-44c4-4789-d2f8-d4cb5c890e83"
      },
      "execution_count": null,
      "outputs": [
        {
          "output_type": "execute_result",
          "data": {
            "text/plain": [
              "0"
            ]
          },
          "metadata": {},
          "execution_count": 13
        }
      ]
    },
    {
      "cell_type": "code",
      "source": [
        "mul = 5*5\n",
        "mul"
      ],
      "metadata": {
        "colab": {
          "base_uri": "https://localhost:8080/"
        },
        "id": "nkng-DmTuhDI",
        "outputId": "9042024e-f6e1-4c60-872f-cf98bdd7316e"
      },
      "execution_count": null,
      "outputs": [
        {
          "output_type": "execute_result",
          "data": {
            "text/plain": [
              "25"
            ]
          },
          "metadata": {},
          "execution_count": 14
        }
      ]
    },
    {
      "cell_type": "code",
      "source": [
        "div = 25 / 5\n",
        "div"
      ],
      "metadata": {
        "colab": {
          "base_uri": "https://localhost:8080/"
        },
        "id": "la8NFZ6SujAb",
        "outputId": "fae35637-43be-46fd-85e2-2685edbbe097"
      },
      "execution_count": null,
      "outputs": [
        {
          "output_type": "execute_result",
          "data": {
            "text/plain": [
              "5.0"
            ]
          },
          "metadata": {},
          "execution_count": 15
        }
      ]
    },
    {
      "cell_type": "code",
      "source": [
        "mod = 26%5\n",
        "mod"
      ],
      "metadata": {
        "colab": {
          "base_uri": "https://localhost:8080/"
        },
        "id": "iRg4T93_ulN6",
        "outputId": "cde5a13c-3798-4a7b-c4f0-fa3468631a8e"
      },
      "execution_count": null,
      "outputs": [
        {
          "output_type": "execute_result",
          "data": {
            "text/plain": [
              "1"
            ]
          },
          "metadata": {},
          "execution_count": 16
        }
      ]
    },
    {
      "cell_type": "markdown",
      "source": [
        "#### Flotantes"
      ],
      "metadata": {
        "id": "tcde0O4cuoOe"
      }
    },
    {
      "cell_type": "code",
      "source": [
        "raw = 1.0"
      ],
      "metadata": {
        "id": "5ZrsVowJut4n"
      },
      "execution_count": null,
      "outputs": []
    },
    {
      "cell_type": "code",
      "source": [
        "print(type(raw))"
      ],
      "metadata": {
        "colab": {
          "base_uri": "https://localhost:8080/"
        },
        "id": "auMDqpd3uvSr",
        "outputId": "b5861bec-5b82-4f11-c333-c933808fb510"
      },
      "execution_count": null,
      "outputs": [
        {
          "output_type": "stream",
          "name": "stdout",
          "text": [
            "<class 'float'>\n"
          ]
        }
      ]
    },
    {
      "cell_type": "markdown",
      "source": [
        "#### Boleanos"
      ],
      "metadata": {
        "id": "QR6IMs5auy62"
      }
    },
    {
      "cell_type": "code",
      "source": [
        "bul = False\n",
        "print(type(bul))"
      ],
      "metadata": {
        "colab": {
          "base_uri": "https://localhost:8080/"
        },
        "id": "DMNIgl9iuxRI",
        "outputId": "f0f265b8-e116-47ea-a471-f6ca4b4cb5c0"
      },
      "execution_count": null,
      "outputs": [
        {
          "output_type": "stream",
          "name": "stdout",
          "text": [
            "<class 'bool'>\n"
          ]
        }
      ]
    },
    {
      "cell_type": "markdown",
      "source": [],
      "metadata": {
        "id": "32FJ_LYoxQDp"
      }
    },
    {
      "cell_type": "markdown",
      "source": [
        "### Operadores"
      ],
      "metadata": {
        "id": "f7L9QXdCyNsY"
      }
    },
    {
      "cell_type": "code",
      "source": [
        "a = 10\n",
        "b = 5\n",
        "\n",
        "suma = a + b           # suma es igual a 15\n",
        "resta = a - b          # resta es igual a 5\n",
        "multiplicacion = a * b  # multiplicacion es igual a 50\n",
        "division = a / b        # division es igual a 2.0\n",
        "modulo = a % b         # modulo es igual a 0"
      ],
      "metadata": {
        "id": "HHRk97xTyQfy"
      },
      "execution_count": null,
      "outputs": []
    },
    {
      "cell_type": "markdown",
      "source": [
        "<a name=\"control-de-flujo\"></a>\n",
        "# 👉Control de flujo: condicionales y bucles"
      ],
      "metadata": {
        "id": "TYasDZ7bB5ZK"
      }
    },
    {
      "cell_type": "markdown",
      "source": [
        "### Condicionales"
      ],
      "metadata": {
        "id": "gndQLCJOzfVb"
      }
    },
    {
      "cell_type": "code",
      "source": [
        "if 10 < 100:\n",
        "    print(\"Hola Mundo\")\n",
        "else:\n",
        "    print(\"Evaluación Falsa\")"
      ],
      "metadata": {
        "colab": {
          "base_uri": "https://localhost:8080/"
        },
        "id": "lN5f8E2XzpYx",
        "outputId": "81792d79-6753-46d9-855a-da033283f58d"
      },
      "execution_count": null,
      "outputs": [
        {
          "output_type": "stream",
          "name": "stdout",
          "text": [
            "Hola Mundo\n"
          ]
        }
      ]
    },
    {
      "cell_type": "code",
      "source": [
        "if (1 < 2) and (2 < 3):\n",
        "    print('Que bonito es Python')"
      ],
      "metadata": {
        "colab": {
          "base_uri": "https://localhost:8080/"
        },
        "id": "tCwOZlDmzsR2",
        "outputId": "ad24d079-32cb-4538-d252-dfab138c444a"
      },
      "execution_count": null,
      "outputs": [
        {
          "output_type": "stream",
          "name": "stdout",
          "text": [
            "Que bonito es Python\n"
          ]
        }
      ]
    },
    {
      "cell_type": "code",
      "source": [
        "# Operadores logicos <, >, ==, !=\n",
        "\n",
        "1 < 3"
      ],
      "metadata": {
        "colab": {
          "base_uri": "https://localhost:8080/"
        },
        "id": "TBDL4HXczu1q",
        "outputId": "d5be4c4f-8dd2-4b50-dc45-a01f7862caec"
      },
      "execution_count": null,
      "outputs": [
        {
          "output_type": "execute_result",
          "data": {
            "text/plain": [
              "True"
            ]
          },
          "metadata": {},
          "execution_count": 23
        }
      ]
    },
    {
      "cell_type": "code",
      "source": [
        "1 == 1.0"
      ],
      "metadata": {
        "colab": {
          "base_uri": "https://localhost:8080/"
        },
        "id": "mQA2cseszy1B",
        "outputId": "058276a7-c0f1-4e2c-8b2e-22c9f2bbafc2"
      },
      "execution_count": null,
      "outputs": [
        {
          "output_type": "execute_result",
          "data": {
            "text/plain": [
              "True"
            ]
          },
          "metadata": {},
          "execution_count": 24
        }
      ]
    },
    {
      "cell_type": "code",
      "source": [
        "1 != 1.0"
      ],
      "metadata": {
        "colab": {
          "base_uri": "https://localhost:8080/"
        },
        "id": "Gx4QUg1Iz0t4",
        "outputId": "d26687ec-d119-4de6-d55e-f4b329eebb21"
      },
      "execution_count": null,
      "outputs": [
        {
          "output_type": "execute_result",
          "data": {
            "text/plain": [
              "False"
            ]
          },
          "metadata": {},
          "execution_count": 25
        }
      ]
    },
    {
      "cell_type": "code",
      "source": [
        "'pepe' == 'pepe'"
      ],
      "metadata": {
        "colab": {
          "base_uri": "https://localhost:8080/"
        },
        "id": "OekJIIaXz3r-",
        "outputId": "0bcae747-2ec8-483d-a63f-87828824d25d"
      },
      "execution_count": null,
      "outputs": [
        {
          "output_type": "execute_result",
          "data": {
            "text/plain": [
              "True"
            ]
          },
          "metadata": {},
          "execution_count": 26
        }
      ]
    },
    {
      "cell_type": "code",
      "source": [
        "if False:\n",
        "    print('If 1')\n",
        "elif False:\n",
        "    print('Elif 1')\n",
        "elif False:\n",
        "    print('Elif 2')\n",
        "elif False:\n",
        "    print('Elif 3')\n",
        "else:\n",
        "    print('Else')"
      ],
      "metadata": {
        "colab": {
          "base_uri": "https://localhost:8080/"
        },
        "id": "fV2eTLN7z6OC",
        "outputId": "31e01b9c-5b51-46d4-bccf-3f111e969fea"
      },
      "execution_count": null,
      "outputs": [
        {
          "output_type": "stream",
          "name": "stdout",
          "text": [
            "Else\n"
          ]
        }
      ]
    },
    {
      "cell_type": "markdown",
      "source": [
        "### Blucles"
      ],
      "metadata": {
        "id": "hElYddX4ziz5"
      }
    },
    {
      "cell_type": "markdown",
      "source": [
        "#### Ciclo For"
      ],
      "metadata": {
        "id": "lR8QdHFE0jDX"
      }
    },
    {
      "cell_type": "code",
      "source": [
        "elemento_iterable = [1,2,3,4,5]\n",
        "\n",
        "for elemento in elemento_iterable:\n",
        "    print(elemento)"
      ],
      "metadata": {
        "colab": {
          "base_uri": "https://localhost:8080/"
        },
        "id": "ikx3My0I0RCN",
        "outputId": "20020c5f-4f3a-45be-90e2-bfdd5e8f7487"
      },
      "execution_count": null,
      "outputs": [
        {
          "output_type": "stream",
          "name": "stdout",
          "text": [
            "1\n",
            "2\n",
            "3\n",
            "4\n",
            "5\n"
          ]
        }
      ]
    },
    {
      "cell_type": "code",
      "source": [
        "for i in 'string tambien es iterable':\n",
        "    print(i)"
      ],
      "metadata": {
        "colab": {
          "base_uri": "https://localhost:8080/"
        },
        "id": "kaJRJ8xz0UCI",
        "outputId": "173a15bc-4e29-41be-e695-9a887cb9a21c"
      },
      "execution_count": null,
      "outputs": [
        {
          "output_type": "stream",
          "name": "stdout",
          "text": [
            "s\n",
            "t\n",
            "r\n",
            "i\n",
            "n\n",
            "g\n",
            " \n",
            "t\n",
            "a\n",
            "m\n",
            "b\n",
            "i\n",
            "e\n",
            "n\n",
            " \n",
            "e\n",
            "s\n",
            " \n",
            "i\n",
            "t\n",
            "e\n",
            "r\n",
            "a\n",
            "b\n",
            "l\n",
            "e\n"
          ]
        }
      ]
    },
    {
      "cell_type": "code",
      "source": [
        "# Funcion range\n",
        "range(10)"
      ],
      "metadata": {
        "colab": {
          "base_uri": "https://localhost:8080/"
        },
        "id": "HKieQtod0chZ",
        "outputId": "bc18479d-1c82-43f8-ba3b-7d8d400316eb"
      },
      "execution_count": null,
      "outputs": [
        {
          "output_type": "execute_result",
          "data": {
            "text/plain": [
              "range(0, 10)"
            ]
          },
          "metadata": {},
          "execution_count": 30
        }
      ]
    },
    {
      "cell_type": "code",
      "source": [
        "for elemento in range(5):\n",
        "    print(elemento + 5 )"
      ],
      "metadata": {
        "colab": {
          "base_uri": "https://localhost:8080/"
        },
        "id": "nf0zzGJT0c77",
        "outputId": "385da21e-2751-40ce-d6e4-c94cbb1181c8"
      },
      "execution_count": null,
      "outputs": [
        {
          "output_type": "stream",
          "name": "stdout",
          "text": [
            "5\n",
            "6\n",
            "7\n",
            "8\n",
            "9\n"
          ]
        }
      ]
    },
    {
      "cell_type": "code",
      "source": [
        "lista_vacia = []\n",
        "\n",
        "for i in range(3):\n",
        "    var = i * 50\n",
        "    lista_vacia.append(var)\n",
        "\n",
        "lista_vacia"
      ],
      "metadata": {
        "colab": {
          "base_uri": "https://localhost:8080/"
        },
        "id": "YbJj1ccE0eih",
        "outputId": "ca3d08ef-ecef-42d3-e48e-06d721d03c04"
      },
      "execution_count": null,
      "outputs": [
        {
          "output_type": "execute_result",
          "data": {
            "text/plain": [
              "[0, 50, 100]"
            ]
          },
          "metadata": {},
          "execution_count": 32
        }
      ]
    },
    {
      "cell_type": "markdown",
      "source": [
        "#### Ciclo While"
      ],
      "metadata": {
        "id": "b1EaKP4E0mDt"
      }
    },
    {
      "cell_type": "code",
      "source": [
        "contador = 0\n",
        "\n",
        "while contador < 5:\n",
        "    print(contador)\n",
        "    contador = contador + 1"
      ],
      "metadata": {
        "colab": {
          "base_uri": "https://localhost:8080/"
        },
        "id": "3KJGfoai0gVM",
        "outputId": "865c2a55-b0b1-4c55-991c-d8a485b110c1"
      },
      "execution_count": null,
      "outputs": [
        {
          "output_type": "stream",
          "name": "stdout",
          "text": [
            "0\n",
            "1\n",
            "2\n",
            "3\n",
            "4\n"
          ]
        }
      ]
    },
    {
      "cell_type": "markdown",
      "source": [
        "<a name=\"funciones\"></a>\n",
        "# 👉Funciones y módulos en Python"
      ],
      "metadata": {
        "id": "IOmKuNHNz1jf"
      }
    },
    {
      "cell_type": "markdown",
      "source": [
        "#### Funciones"
      ],
      "metadata": {
        "id": "4bXqpaZY5sHr"
      }
    },
    {
      "cell_type": "code",
      "source": [
        "def funcion():\n",
        "    print('hola mundo')"
      ],
      "metadata": {
        "id": "QfxZrHv15uKQ"
      },
      "execution_count": null,
      "outputs": []
    },
    {
      "cell_type": "code",
      "source": [
        "foo = funcion()"
      ],
      "metadata": {
        "colab": {
          "base_uri": "https://localhost:8080/"
        },
        "id": "q2geikHT5wxO",
        "outputId": "c0970556-77f1-46b0-80f1-05535c662850"
      },
      "execution_count": null,
      "outputs": [
        {
          "output_type": "stream",
          "name": "stdout",
          "text": [
            "hola mundo\n"
          ]
        }
      ]
    },
    {
      "cell_type": "code",
      "source": [
        "print(foo)"
      ],
      "metadata": {
        "colab": {
          "base_uri": "https://localhost:8080/"
        },
        "id": "PyLg5yOx5yYG",
        "outputId": "b612d9a3-3e13-4519-9640-8f37bb1135b2"
      },
      "execution_count": null,
      "outputs": [
        {
          "output_type": "stream",
          "name": "stdout",
          "text": [
            "None\n"
          ]
        }
      ]
    },
    {
      "cell_type": "code",
      "source": [
        "def funcion_cuadratica(x):\n",
        "    return x * x"
      ],
      "metadata": {
        "id": "EPYd1Owa51op"
      },
      "execution_count": null,
      "outputs": []
    },
    {
      "cell_type": "code",
      "source": [
        "var = funcion_cuadratica(5)\n",
        "\n",
        "print(f'Valor de la función {var}')"
      ],
      "metadata": {
        "colab": {
          "base_uri": "https://localhost:8080/"
        },
        "id": "ereywZcu57Ol",
        "outputId": "0dc16283-df26-4486-a084-d7bc0a2c1b5d"
      },
      "execution_count": null,
      "outputs": [
        {
          "output_type": "stream",
          "name": "stdout",
          "text": [
            "Valor de la función 25\n"
          ]
        }
      ]
    },
    {
      "cell_type": "code",
      "source": [
        "for i in range(10):\n",
        "    print(funcion_cuadratica(i))"
      ],
      "metadata": {
        "colab": {
          "base_uri": "https://localhost:8080/"
        },
        "id": "71AH3bGt5-8t",
        "outputId": "a25bae70-921e-4a1f-8fe9-6b7f6c6f864f"
      },
      "execution_count": null,
      "outputs": [
        {
          "output_type": "stream",
          "name": "stdout",
          "text": [
            "0\n",
            "1\n",
            "4\n",
            "9\n",
            "16\n",
            "25\n",
            "36\n",
            "49\n",
            "64\n",
            "81\n"
          ]
        }
      ]
    },
    {
      "cell_type": "code",
      "source": [
        "def multiples_parametros(x,y,z):\n",
        "    return x*x*y*y*z*z"
      ],
      "metadata": {
        "id": "MztbwV1O6B8a"
      },
      "execution_count": null,
      "outputs": []
    },
    {
      "cell_type": "code",
      "source": [
        "print(multiples_parametros(5,2,6))"
      ],
      "metadata": {
        "colab": {
          "base_uri": "https://localhost:8080/"
        },
        "id": "0jasUdG66Tzh",
        "outputId": "d21740ff-db74-4cf3-9899-1ccd75aa39d8"
      },
      "execution_count": null,
      "outputs": [
        {
          "output_type": "stream",
          "name": "stdout",
          "text": [
            "3600\n"
          ]
        }
      ]
    },
    {
      "cell_type": "code",
      "source": [
        "def regresa_multiples_elementos(x,y):\n",
        "    return x*x, y*y\n",
        "\n",
        "regresa_multiples_elementos(5,6)"
      ],
      "metadata": {
        "colab": {
          "base_uri": "https://localhost:8080/"
        },
        "id": "75qxNOb46USv",
        "outputId": "6ab964bd-cca6-4d36-8f41-392ff4958710"
      },
      "execution_count": null,
      "outputs": [
        {
          "output_type": "execute_result",
          "data": {
            "text/plain": [
              "(25, 36)"
            ]
          },
          "metadata": {},
          "execution_count": 42
        }
      ]
    },
    {
      "cell_type": "code",
      "source": [
        "type(regresa_multiples_elementos(5,6))"
      ],
      "metadata": {
        "colab": {
          "base_uri": "https://localhost:8080/"
        },
        "id": "jWenTdtm6aAC",
        "outputId": "2eb44428-c029-45ca-d912-b205afd2720a"
      },
      "execution_count": null,
      "outputs": [
        {
          "output_type": "execute_result",
          "data": {
            "text/plain": [
              "tuple"
            ]
          },
          "metadata": {},
          "execution_count": 43
        }
      ]
    },
    {
      "cell_type": "code",
      "source": [
        "valor1, valor2 = regresa_multiples_elementos(5,6)"
      ],
      "metadata": {
        "id": "qEdMIHAj6hBo"
      },
      "execution_count": null,
      "outputs": []
    },
    {
      "cell_type": "code",
      "source": [
        "print(valor1, valor2)"
      ],
      "metadata": {
        "colab": {
          "base_uri": "https://localhost:8080/"
        },
        "id": "JOJeyiWM6jCu",
        "outputId": "aa9de537-1727-42c3-aee3-b2452a331621"
      },
      "execution_count": null,
      "outputs": [
        {
          "output_type": "stream",
          "name": "stdout",
          "text": [
            "25 36\n"
          ]
        }
      ]
    },
    {
      "cell_type": "code",
      "source": [
        "type(valor1)"
      ],
      "metadata": {
        "colab": {
          "base_uri": "https://localhost:8080/"
        },
        "id": "iQqlpWBW6km5",
        "outputId": "4c422197-981a-4a0b-8f73-5276e111d1ca"
      },
      "execution_count": null,
      "outputs": [
        {
          "output_type": "execute_result",
          "data": {
            "text/plain": [
              "int"
            ]
          },
          "metadata": {},
          "execution_count": 46
        }
      ]
    },
    {
      "cell_type": "markdown",
      "source": [
        "#### Módulos"
      ],
      "metadata": {
        "id": "dx1HPm0I6nWy"
      }
    },
    {
      "cell_type": "code",
      "source": [
        "import math"
      ],
      "metadata": {
        "id": "hQqTraCc6qSq"
      },
      "execution_count": null,
      "outputs": []
    },
    {
      "cell_type": "code",
      "source": [
        "math.ceil(2.5)"
      ],
      "metadata": {
        "colab": {
          "base_uri": "https://localhost:8080/"
        },
        "id": "MOh6byUK6snT",
        "outputId": "58ada83a-3f0f-4498-fe45-23eef37fa119"
      },
      "execution_count": null,
      "outputs": [
        {
          "output_type": "execute_result",
          "data": {
            "text/plain": [
              "3"
            ]
          },
          "metadata": {},
          "execution_count": 48
        }
      ]
    },
    {
      "cell_type": "code",
      "source": [
        "type(math)"
      ],
      "metadata": {
        "colab": {
          "base_uri": "https://localhost:8080/"
        },
        "id": "G9viRbn76wn5",
        "outputId": "be1efaec-e6cf-4bd3-95bf-6ad0beee73fa"
      },
      "execution_count": null,
      "outputs": [
        {
          "output_type": "execute_result",
          "data": {
            "text/plain": [
              "module"
            ]
          },
          "metadata": {},
          "execution_count": 49
        }
      ]
    },
    {
      "cell_type": "code",
      "source": [
        "type(math.ceil)"
      ],
      "metadata": {
        "colab": {
          "base_uri": "https://localhost:8080/"
        },
        "id": "pSypc8ij62Of",
        "outputId": "8d8d3636-8b6a-4203-dd11-7a1e36224a6b"
      },
      "execution_count": null,
      "outputs": [
        {
          "output_type": "execute_result",
          "data": {
            "text/plain": [
              "builtin_function_or_method"
            ]
          },
          "metadata": {},
          "execution_count": 50
        }
      ]
    },
    {
      "cell_type": "markdown",
      "source": [
        "<a name=\"estructuras\"></a>\n",
        "# 👉Estructuras de datos: listas, tuplas y diccionarios"
      ],
      "metadata": {
        "id": "5w7LgSS_z6MO"
      }
    },
    {
      "cell_type": "markdown",
      "source": [
        "### Listas"
      ],
      "metadata": {
        "id": "p2f0-Sma1UaH"
      }
    },
    {
      "cell_type": "code",
      "source": [
        "lista = ['strings',1,1.0,True]\n",
        "lista"
      ],
      "metadata": {
        "colab": {
          "base_uri": "https://localhost:8080/"
        },
        "id": "N5acyjBi1Vy4",
        "outputId": "0f21e321-02c5-4355-ad1e-5d6c9d58788c"
      },
      "execution_count": null,
      "outputs": [
        {
          "output_type": "execute_result",
          "data": {
            "text/plain": [
              "['strings', 1, 1.0, True]"
            ]
          },
          "metadata": {},
          "execution_count": 51
        }
      ]
    },
    {
      "cell_type": "code",
      "source": [
        "print(type(lista))\n"
      ],
      "metadata": {
        "colab": {
          "base_uri": "https://localhost:8080/"
        },
        "id": "AMyS6J-A1W9V",
        "outputId": "9b35ce5b-005b-47f9-8e05-c846548a9aa4"
      },
      "execution_count": null,
      "outputs": [
        {
          "output_type": "stream",
          "name": "stdout",
          "text": [
            "<class 'list'>\n"
          ]
        }
      ]
    },
    {
      "cell_type": "code",
      "source": [
        "lista[3]\n"
      ],
      "metadata": {
        "colab": {
          "base_uri": "https://localhost:8080/"
        },
        "id": "AQfaE9oS1ZfZ",
        "outputId": "d08becc5-699b-4916-eec2-1df739eaa239"
      },
      "execution_count": null,
      "outputs": [
        {
          "output_type": "execute_result",
          "data": {
            "text/plain": [
              "True"
            ]
          },
          "metadata": {},
          "execution_count": 53
        }
      ]
    },
    {
      "cell_type": "code",
      "source": [
        "var = lista[0]\n",
        "var"
      ],
      "metadata": {
        "colab": {
          "base_uri": "https://localhost:8080/"
        },
        "id": "kdPEaMGJ1be2",
        "outputId": "90eb8fd3-4f9d-4a9c-90b6-2006c57ad8e8"
      },
      "execution_count": null,
      "outputs": [
        {
          "output_type": "execute_result",
          "data": {
            "text/plain": [
              "'strings'"
            ],
            "application/vnd.google.colaboratory.intrinsic+json": {
              "type": "string"
            }
          },
          "metadata": {},
          "execution_count": 54
        }
      ]
    },
    {
      "cell_type": "code",
      "source": [
        "sub_list = lista[0:2]\n",
        "sub_list\n",
        "print(type(sub_list))"
      ],
      "metadata": {
        "colab": {
          "base_uri": "https://localhost:8080/"
        },
        "id": "dvvzr7vs1dGw",
        "outputId": "9df6e58a-3d7f-41e3-ebb2-22b3873da465"
      },
      "execution_count": null,
      "outputs": [
        {
          "output_type": "stream",
          "name": "stdout",
          "text": [
            "<class 'list'>\n"
          ]
        }
      ]
    },
    {
      "cell_type": "code",
      "source": [
        "lista1 = ['a','b']\n",
        "lista2 = ['c','d']"
      ],
      "metadata": {
        "id": "_qXSDwzk1e_O"
      },
      "execution_count": null,
      "outputs": []
    },
    {
      "cell_type": "code",
      "source": [
        "lista3 = lista1 + lista2\n",
        "lista3"
      ],
      "metadata": {
        "colab": {
          "base_uri": "https://localhost:8080/"
        },
        "id": "6TXxFElh1hYN",
        "outputId": "9dbf5da8-f679-4d04-ce09-67ce71608239"
      },
      "execution_count": null,
      "outputs": [
        {
          "output_type": "execute_result",
          "data": {
            "text/plain": [
              "['a', 'b', 'c', 'd']"
            ]
          },
          "metadata": {},
          "execution_count": 57
        }
      ]
    },
    {
      "cell_type": "code",
      "source": [
        "lista3.append('e')\n",
        "lista3"
      ],
      "metadata": {
        "colab": {
          "base_uri": "https://localhost:8080/"
        },
        "id": "6M_pUwPi1i9M",
        "outputId": "cf78fd68-4927-4148-d1d2-76cd18bd71f5"
      },
      "execution_count": null,
      "outputs": [
        {
          "output_type": "execute_result",
          "data": {
            "text/plain": [
              "['a', 'b', 'c', 'd', 'e']"
            ]
          },
          "metadata": {},
          "execution_count": 58
        }
      ]
    },
    {
      "cell_type": "code",
      "source": [
        "lista3.pop()\n",
        "lista3"
      ],
      "metadata": {
        "colab": {
          "base_uri": "https://localhost:8080/"
        },
        "id": "yuC-P2Fx1puy",
        "outputId": "a219a51b-c10e-49d8-97f7-3c285354c9a8"
      },
      "execution_count": null,
      "outputs": [
        {
          "output_type": "execute_result",
          "data": {
            "text/plain": [
              "['a', 'b', 'c', 'd']"
            ]
          },
          "metadata": {},
          "execution_count": 59
        }
      ]
    },
    {
      "cell_type": "code",
      "source": [
        "lista3[0] = 'var1'\n",
        "lista3"
      ],
      "metadata": {
        "colab": {
          "base_uri": "https://localhost:8080/"
        },
        "id": "HPJ8tuf31rYT",
        "outputId": "c19cb445-c3d7-4c27-a6ff-a7ef1cfacad5"
      },
      "execution_count": null,
      "outputs": [
        {
          "output_type": "execute_result",
          "data": {
            "text/plain": [
              "['var1', 'b', 'c', 'd']"
            ]
          },
          "metadata": {},
          "execution_count": 60
        }
      ]
    },
    {
      "cell_type": "markdown",
      "source": [
        "### Tuplas"
      ],
      "metadata": {
        "id": "_mR3lQLt135d"
      }
    },
    {
      "cell_type": "code",
      "source": [
        "tupla = ('tupla',1,2.0,False)\n",
        "tupla"
      ],
      "metadata": {
        "colab": {
          "base_uri": "https://localhost:8080/"
        },
        "id": "w_X1xBhL15sY",
        "outputId": "139255c4-1e05-4945-ddd6-09cbd99c5bcb"
      },
      "execution_count": null,
      "outputs": [
        {
          "output_type": "execute_result",
          "data": {
            "text/plain": [
              "('tupla', 1, 2.0, False)"
            ]
          },
          "metadata": {},
          "execution_count": 61
        }
      ]
    },
    {
      "cell_type": "code",
      "source": [
        "print(type(tupla))\n"
      ],
      "metadata": {
        "colab": {
          "base_uri": "https://localhost:8080/"
        },
        "id": "r-6tTIJY1639",
        "outputId": "11463a30-a6eb-40b4-bc8b-1f8f3da74bf9"
      },
      "execution_count": null,
      "outputs": [
        {
          "output_type": "stream",
          "name": "stdout",
          "text": [
            "<class 'tuple'>\n"
          ]
        }
      ]
    },
    {
      "cell_type": "code",
      "source": [
        "tupla[0]\n"
      ],
      "metadata": {
        "colab": {
          "base_uri": "https://localhost:8080/",
          "height": 35
        },
        "id": "nRvOBO7e19YL",
        "outputId": "9a0e85a2-5616-4517-f228-65064b2108a5"
      },
      "execution_count": null,
      "outputs": [
        {
          "output_type": "execute_result",
          "data": {
            "text/plain": [
              "'tupla'"
            ],
            "application/vnd.google.colaboratory.intrinsic+json": {
              "type": "string"
            }
          },
          "metadata": {},
          "execution_count": 63
        }
      ]
    },
    {
      "cell_type": "code",
      "source": [
        "tupla[0:3]\n"
      ],
      "metadata": {
        "colab": {
          "base_uri": "https://localhost:8080/"
        },
        "id": "u0Fa54fm1-qr",
        "outputId": "b4c9696f-10fc-4794-c8fc-8f6c274d543a"
      },
      "execution_count": null,
      "outputs": [
        {
          "output_type": "execute_result",
          "data": {
            "text/plain": [
              "('tupla', 1, 2.0)"
            ]
          },
          "metadata": {},
          "execution_count": 64
        }
      ]
    },
    {
      "cell_type": "code",
      "source": [
        "tupla[0] =  'var'"
      ],
      "metadata": {
        "colab": {
          "base_uri": "https://localhost:8080/",
          "height": 165
        },
        "id": "vUUKK2ad2CG2",
        "outputId": "724567d9-1284-4ba8-97d2-6198c941aafa"
      },
      "execution_count": null,
      "outputs": [
        {
          "output_type": "error",
          "ename": "TypeError",
          "evalue": "ignored",
          "traceback": [
            "\u001b[0;31m---------------------------------------------------------------------------\u001b[0m",
            "\u001b[0;31mTypeError\u001b[0m                                 Traceback (most recent call last)",
            "\u001b[0;32m<ipython-input-65-4a6a0ed62334>\u001b[0m in \u001b[0;36m<cell line: 1>\u001b[0;34m()\u001b[0m\n\u001b[0;32m----> 1\u001b[0;31m \u001b[0mtupla\u001b[0m\u001b[0;34m[\u001b[0m\u001b[0;36m0\u001b[0m\u001b[0;34m]\u001b[0m \u001b[0;34m=\u001b[0m  \u001b[0;34m'var'\u001b[0m\u001b[0;34m\u001b[0m\u001b[0;34m\u001b[0m\u001b[0m\n\u001b[0m",
            "\u001b[0;31mTypeError\u001b[0m: 'tuple' object does not support item assignment"
          ]
        }
      ]
    },
    {
      "cell_type": "markdown",
      "source": [
        "### Diccionarios"
      ],
      "metadata": {
        "id": "-uTLuRSS8kP7"
      }
    },
    {
      "cell_type": "code",
      "source": [
        "diccionario = {'llave':'valor', 'llave2':1,'llave3':False}\n",
        "diccionario"
      ],
      "metadata": {
        "colab": {
          "base_uri": "https://localhost:8080/"
        },
        "id": "KLpK4IdH8wpz",
        "outputId": "5a83d430-1237-4a8a-dc09-242ba58886eb"
      },
      "execution_count": null,
      "outputs": [
        {
          "output_type": "execute_result",
          "data": {
            "text/plain": [
              "{'llave': 'valor', 'llave2': 1, 'llave3': False}"
            ]
          },
          "metadata": {},
          "execution_count": 66
        }
      ]
    },
    {
      "cell_type": "code",
      "source": [
        "print(type(diccionario))"
      ],
      "metadata": {
        "colab": {
          "base_uri": "https://localhost:8080/"
        },
        "id": "D-xl7kKg9anZ",
        "outputId": "eee22af6-3590-4bbb-d058-dd1104af9246"
      },
      "execution_count": null,
      "outputs": [
        {
          "output_type": "stream",
          "name": "stdout",
          "text": [
            "<class 'dict'>\n"
          ]
        }
      ]
    },
    {
      "cell_type": "code",
      "source": [
        "diccionario['llave2']"
      ],
      "metadata": {
        "colab": {
          "base_uri": "https://localhost:8080/"
        },
        "id": "ObjpbjEV9ave",
        "outputId": "b2b42d14-a25e-44c8-8d6e-55fa1611e498"
      },
      "execution_count": null,
      "outputs": [
        {
          "output_type": "execute_result",
          "data": {
            "text/plain": [
              "1"
            ]
          },
          "metadata": {},
          "execution_count": 68
        }
      ]
    },
    {
      "cell_type": "code",
      "source": [
        "diccionario.keys()"
      ],
      "metadata": {
        "colab": {
          "base_uri": "https://localhost:8080/"
        },
        "id": "rcRw-wo_9k2f",
        "outputId": "b0c3dce0-c0f3-4959-9b1b-36d3aedaa6ee"
      },
      "execution_count": null,
      "outputs": [
        {
          "output_type": "execute_result",
          "data": {
            "text/plain": [
              "dict_keys(['llave', 'llave2', 'llave3'])"
            ]
          },
          "metadata": {},
          "execution_count": 69
        }
      ]
    },
    {
      "cell_type": "code",
      "source": [
        "diccionario.values()"
      ],
      "metadata": {
        "colab": {
          "base_uri": "https://localhost:8080/"
        },
        "id": "jghNJYJX9k6d",
        "outputId": "8e5b16d0-d851-43cc-ebc3-b60f0e9e6a51"
      },
      "execution_count": null,
      "outputs": [
        {
          "output_type": "execute_result",
          "data": {
            "text/plain": [
              "dict_values(['valor', 1, False])"
            ]
          },
          "metadata": {},
          "execution_count": 70
        }
      ]
    },
    {
      "cell_type": "code",
      "source": [
        "diccionario.items()"
      ],
      "metadata": {
        "colab": {
          "base_uri": "https://localhost:8080/"
        },
        "id": "uZJ1LcPT9k94",
        "outputId": "12267df3-1ad1-4630-9116-71ab11566aaf"
      },
      "execution_count": null,
      "outputs": [
        {
          "output_type": "execute_result",
          "data": {
            "text/plain": [
              "dict_items([('llave', 'valor'), ('llave2', 1), ('llave3', False)])"
            ]
          },
          "metadata": {},
          "execution_count": 71
        }
      ]
    },
    {
      "cell_type": "markdown",
      "source": [
        "### Conjuntos o Sets"
      ],
      "metadata": {
        "id": "q9T_6t1F9S2x"
      }
    },
    {
      "cell_type": "code",
      "source": [
        "conjunto = {'conjunto',1,1.0,False}\n",
        "conjunto"
      ],
      "metadata": {
        "colab": {
          "base_uri": "https://localhost:8080/"
        },
        "id": "V1yYssDY9sm6",
        "outputId": "2761f1dc-0804-4813-89be-0aa13cd03ae5"
      },
      "execution_count": null,
      "outputs": [
        {
          "output_type": "execute_result",
          "data": {
            "text/plain": [
              "{1, False, 'conjunto'}"
            ]
          },
          "metadata": {},
          "execution_count": 72
        }
      ]
    },
    {
      "cell_type": "code",
      "source": [
        "# Los conjutos no son iterables\n",
        "conjunto[1]"
      ],
      "metadata": {
        "colab": {
          "base_uri": "https://localhost:8080/",
          "height": 183
        },
        "id": "nBjae2PQ9suC",
        "outputId": "9f6ac5d7-1560-44b3-8dd6-e74d3db931bd"
      },
      "execution_count": null,
      "outputs": [
        {
          "output_type": "error",
          "ename": "TypeError",
          "evalue": "ignored",
          "traceback": [
            "\u001b[0;31m---------------------------------------------------------------------------\u001b[0m",
            "\u001b[0;31mTypeError\u001b[0m                                 Traceback (most recent call last)",
            "\u001b[0;32m<ipython-input-74-810e2a8ed540>\u001b[0m in \u001b[0;36m<cell line: 2>\u001b[0;34m()\u001b[0m\n\u001b[1;32m      1\u001b[0m \u001b[0;31m# Los conjutos no son iterables\u001b[0m\u001b[0;34m\u001b[0m\u001b[0;34m\u001b[0m\u001b[0m\n\u001b[0;32m----> 2\u001b[0;31m \u001b[0mconjunto\u001b[0m\u001b[0;34m[\u001b[0m\u001b[0;36m1\u001b[0m\u001b[0;34m]\u001b[0m\u001b[0;34m\u001b[0m\u001b[0;34m\u001b[0m\u001b[0m\n\u001b[0m",
            "\u001b[0;31mTypeError\u001b[0m: 'set' object is not subscriptable"
          ]
        }
      ]
    },
    {
      "cell_type": "code",
      "source": [
        "type(conjunto)"
      ],
      "metadata": {
        "colab": {
          "base_uri": "https://localhost:8080/"
        },
        "id": "3zearQ2C9sy-",
        "outputId": "e3e7fa0f-2e29-49a6-fdf9-3480435033b6"
      },
      "execution_count": null,
      "outputs": [
        {
          "output_type": "execute_result",
          "data": {
            "text/plain": [
              "set"
            ]
          },
          "metadata": {},
          "execution_count": 75
        }
      ]
    },
    {
      "cell_type": "code",
      "source": [
        "set_a = {1,2,3,4,5}\n",
        "set_b = {3,4,5,6,7}\n",
        "\n",
        "set_c = set_a.intersection(set_b)\n",
        "set_d = set_a.union(set_b)\n",
        "\n",
        "\n"
      ],
      "metadata": {
        "id": "Gs2hdeL29005"
      },
      "execution_count": null,
      "outputs": []
    },
    {
      "cell_type": "markdown",
      "source": [
        "### Casteo"
      ],
      "metadata": {
        "id": "AZwUYGXa91fl"
      }
    },
    {
      "cell_type": "code",
      "source": [
        "var2 = str(1)\n",
        "var2"
      ],
      "metadata": {
        "colab": {
          "base_uri": "https://localhost:8080/",
          "height": 35
        },
        "id": "F6ThYYcN_KRp",
        "outputId": "a08fb730-d5ba-42eb-93ae-981573170b20"
      },
      "execution_count": null,
      "outputs": [
        {
          "output_type": "execute_result",
          "data": {
            "text/plain": [
              "'1'"
            ],
            "application/vnd.google.colaboratory.intrinsic+json": {
              "type": "string"
            }
          },
          "metadata": {},
          "execution_count": 77
        }
      ]
    },
    {
      "cell_type": "code",
      "source": [
        "var3 = int('1')\n",
        "var3"
      ],
      "metadata": {
        "colab": {
          "base_uri": "https://localhost:8080/"
        },
        "id": "OKRXSceo_KVR",
        "outputId": "c16167c5-8c6d-4785-cc55-ec6fb2d32478"
      },
      "execution_count": null,
      "outputs": [
        {
          "output_type": "execute_result",
          "data": {
            "text/plain": [
              "1"
            ]
          },
          "metadata": {},
          "execution_count": 78
        }
      ]
    },
    {
      "cell_type": "code",
      "source": [
        "lista_conjunto = list(conjunto)\n",
        "lista_conjunto[0]"
      ],
      "metadata": {
        "colab": {
          "base_uri": "https://localhost:8080/"
        },
        "id": "kDE5cdI-_KFm",
        "outputId": "d7a5cc02-45f9-4f42-e3b3-ea73dd781286"
      },
      "execution_count": null,
      "outputs": [
        {
          "output_type": "execute_result",
          "data": {
            "text/plain": [
              "False"
            ]
          },
          "metadata": {},
          "execution_count": 79
        }
      ]
    },
    {
      "cell_type": "code",
      "source": [
        "tupla_lista = tuple(lista3)\n",
        "tupla_lista"
      ],
      "metadata": {
        "colab": {
          "base_uri": "https://localhost:8080/"
        },
        "id": "Sj4TkQ0e_KNJ",
        "outputId": "c9d74f69-8879-422b-9775-5f72d92be529"
      },
      "execution_count": null,
      "outputs": [
        {
          "output_type": "execute_result",
          "data": {
            "text/plain": [
              "('var1', 'b', 'c', 'd')"
            ]
          },
          "metadata": {},
          "execution_count": 80
        }
      ]
    },
    {
      "cell_type": "markdown",
      "source": [
        "<a name=\"entrada\"></a>\n",
        "# 👉Entrada y salida de datos en Python"
      ],
      "metadata": {
        "id": "_-Wejbjfz9J5"
      }
    },
    {
      "cell_type": "code",
      "source": [
        "edad = input(\"Ingresa tu edad: \")"
      ],
      "metadata": {
        "colab": {
          "base_uri": "https://localhost:8080/"
        },
        "id": "dhm1fkGjDTcO",
        "outputId": "54b2abb1-5663-4dca-b6fe-7263c11e3154"
      },
      "execution_count": null,
      "outputs": [
        {
          "name": "stdout",
          "output_type": "stream",
          "text": [
            "Ingresa tu edad: patito\n"
          ]
        }
      ]
    },
    {
      "cell_type": "code",
      "source": [
        "type(edad)"
      ],
      "metadata": {
        "colab": {
          "base_uri": "https://localhost:8080/"
        },
        "id": "31r0o1MrDbJG",
        "outputId": "4cf4fd40-e2f5-4ac8-a427-be7f5856ad01"
      },
      "execution_count": null,
      "outputs": [
        {
          "output_type": "execute_result",
          "data": {
            "text/plain": [
              "str"
            ]
          },
          "metadata": {},
          "execution_count": 82
        }
      ]
    },
    {
      "cell_type": "code",
      "source": [
        "nombre = \"Juan\"\n",
        "edad = 24\n",
        "print(\"Mi nombre es \" + nombre + \" y tengo \" + str(edad) + \" años.\")"
      ],
      "metadata": {
        "colab": {
          "base_uri": "https://localhost:8080/"
        },
        "id": "KdfUCmRKDT6T",
        "outputId": "b85cedd5-4388-448c-db08-775fc51ac18c"
      },
      "execution_count": null,
      "outputs": [
        {
          "output_type": "stream",
          "name": "stdout",
          "text": [
            "Mi nombre es Juan y tengo 24 años.\n"
          ]
        }
      ]
    },
    {
      "cell_type": "code",
      "source": [
        "print(f'Mi nombre es {nombre} y tengo {edad} años')"
      ],
      "metadata": {
        "colab": {
          "base_uri": "https://localhost:8080/"
        },
        "id": "zQzxVd90DhbM",
        "outputId": "6d2f35b0-05f2-45d7-bf53-c4e001272d58"
      },
      "execution_count": null,
      "outputs": [
        {
          "output_type": "stream",
          "name": "stdout",
          "text": [
            "Mi nombre es Juan y tengo 24 años\n"
          ]
        }
      ]
    },
    {
      "cell_type": "markdown",
      "source": [
        "<a name=\"excepciones\"></a>\n",
        "# 👉Manejo de excepciones y errores"
      ],
      "metadata": {
        "id": "4eDaWnzs0Awh"
      }
    },
    {
      "cell_type": "code",
      "source": [
        "try:\n",
        "    x = int(input(\"Introduce un número: \"))\n",
        "    y = 100 / x\n",
        "except ZeroDivisionError:\n",
        "    print(\"No se puede dividir entre cero.\")\n",
        "except ValueError:\n",
        "    print(\"Se esperaba un número entero válido.\")\n",
        "else:\n",
        "    print(\"El resultado de la división es:\", y)\n",
        "finally:\n",
        "    print(\"Se ha completado el proceso.\")"
      ],
      "metadata": {
        "colab": {
          "base_uri": "https://localhost:8080/"
        },
        "id": "l6rJpM08Ii_x",
        "outputId": "b603c12a-7cbd-46e1-9d36-41a09eeb21c6"
      },
      "execution_count": null,
      "outputs": [
        {
          "output_type": "stream",
          "name": "stdout",
          "text": [
            "Introduce un número: f\n",
            "Se esperaba un número entero válido.\n",
            "Se ha completado el proceso.\n"
          ]
        }
      ]
    },
    {
      "cell_type": "markdown",
      "source": [
        "<a name=\"objetos\"></a>\n",
        "# 👉Programación orientada a objetos en Python"
      ],
      "metadata": {
        "id": "OhUOrQjBv9lL"
      }
    },
    {
      "cell_type": "code",
      "source": [
        "class Persona:\n",
        "    def __init__(self, nombre, genero):\n",
        "        self.nombre = nombre\n",
        "        self.genero = genero\n",
        "\n",
        "    def habla(self):\n",
        "        return print('Soy {}'.format(self.nombre))\n",
        "\n",
        "    def __repr__(self):\n",
        "        return 'Instancia de {}'.format(self.genero)"
      ],
      "metadata": {
        "id": "i8ddHz3SaSli"
      },
      "execution_count": null,
      "outputs": []
    },
    {
      "cell_type": "code",
      "source": [
        "class Perro:\n",
        "    def __init__(self, nombre, raza, edad):\n",
        "        self.nombre = nombre\n",
        "        self.raza = raza\n",
        "        self.edad = edad"
      ],
      "metadata": {
        "id": "LPCm2ProaTH0"
      },
      "execution_count": null,
      "outputs": []
    },
    {
      "cell_type": "code",
      "source": [
        "help(Persona)"
      ],
      "metadata": {
        "id": "te03No-paW6o"
      },
      "execution_count": null,
      "outputs": []
    },
    {
      "cell_type": "code",
      "source": [
        "help(Perro)"
      ],
      "metadata": {
        "id": "hSf83TgQaYjY"
      },
      "execution_count": null,
      "outputs": []
    },
    {
      "cell_type": "code",
      "source": [
        "pepe = Persona('Pepe','H')"
      ],
      "metadata": {
        "id": "SCfAtKM3aaaK"
      },
      "execution_count": null,
      "outputs": []
    },
    {
      "cell_type": "code",
      "source": [
        "lasy = Perro('lasy','poodle',3)"
      ],
      "metadata": {
        "id": "2Lh2NjR3aeDp"
      },
      "execution_count": null,
      "outputs": []
    },
    {
      "cell_type": "code",
      "source": [
        "print(lasy.raza)"
      ],
      "metadata": {
        "id": "hDEVGPWvafjS"
      },
      "execution_count": null,
      "outputs": []
    },
    {
      "cell_type": "code",
      "source": [
        "lasy.__dict__"
      ],
      "metadata": {
        "id": "-TXKid2Iaf6A"
      },
      "execution_count": null,
      "outputs": []
    },
    {
      "cell_type": "code",
      "source": [
        "bob = Perro('bob','labrador',10)"
      ],
      "metadata": {
        "id": "xaHHqwi1af9h"
      },
      "execution_count": null,
      "outputs": []
    },
    {
      "cell_type": "code",
      "source": [
        "print(bob.raza, lasy.raza)"
      ],
      "metadata": {
        "id": "5eiqiGWJagA7"
      },
      "execution_count": null,
      "outputs": []
    },
    {
      "cell_type": "code",
      "source": [
        "print(pepe)"
      ],
      "metadata": {
        "id": "rn4NXzojagDc"
      },
      "execution_count": null,
      "outputs": []
    },
    {
      "cell_type": "code",
      "source": [
        "pepe.nombre"
      ],
      "metadata": {
        "id": "YVZ9_daEagJN"
      },
      "execution_count": null,
      "outputs": []
    },
    {
      "cell_type": "code",
      "source": [
        "pepe.genero"
      ],
      "metadata": {
        "id": "QrPVQaOOagMd"
      },
      "execution_count": null,
      "outputs": []
    },
    {
      "cell_type": "code",
      "source": [
        "pepe.habla()"
      ],
      "metadata": {
        "id": "BmvbAm3KagPa"
      },
      "execution_count": null,
      "outputs": []
    },
    {
      "cell_type": "code",
      "source": [
        "pepe.nombre = 'Pedro'"
      ],
      "metadata": {
        "id": "56V-E1rUagTZ"
      },
      "execution_count": null,
      "outputs": []
    },
    {
      "cell_type": "code",
      "source": [
        "pepe.nombre"
      ],
      "metadata": {
        "id": "7-gJUtP9asxA"
      },
      "execution_count": null,
      "outputs": []
    },
    {
      "cell_type": "markdown",
      "source": [
        "<a name=\"algoritmos\"></a>\n",
        "# 👉Algoritmos básicos de clasificación y búsqueda en Python"
      ],
      "metadata": {
        "id": "6MNFTTx7wHMs"
      }
    },
    {
      "cell_type": "code",
      "source": [
        "def bubble_sort(lista):\n",
        "    n = len(lista)\n",
        "\n",
        "    for i in range(n):\n",
        "        for j in range(0, n-i-1):\n",
        "            if lista[j] > lista[j+1] :\n",
        "                lista[j], lista[j+1] = lista[j+1], lista[j]\n",
        "\n",
        "    return lista"
      ],
      "metadata": {
        "id": "JkPvmLDZa7dt"
      },
      "execution_count": null,
      "outputs": []
    },
    {
      "cell_type": "code",
      "source": [
        "lista_ordenada = bubble_sort([5,6,5,3,6,7,3,1,9])"
      ],
      "metadata": {
        "id": "x3FxtIWta8Vv"
      },
      "execution_count": null,
      "outputs": []
    },
    {
      "cell_type": "code",
      "source": [
        "lista_ordenada"
      ],
      "metadata": {
        "colab": {
          "base_uri": "https://localhost:8080/"
        },
        "id": "WYoAeRO3bBY0",
        "outputId": "512a9700-8b86-404e-d9bf-47b518433ce9"
      },
      "execution_count": null,
      "outputs": [
        {
          "output_type": "execute_result",
          "data": {
            "text/plain": [
              "[1, 3, 3, 5, 5, 6, 6, 7, 9]"
            ]
          },
          "metadata": {},
          "execution_count": 92
        }
      ]
    },
    {
      "cell_type": "code",
      "source": [
        "def busqueda_binaria(lista, valor):\n",
        "    izq = 0\n",
        "    der = len(lista) - 1\n",
        "\n",
        "    while izq <= der:\n",
        "        medio = (izq + der) // 2\n",
        "\n",
        "        if lista[medio] == valor:\n",
        "            return medio\n",
        "        elif lista[medio] < valor:\n",
        "            izq = medio + 1\n",
        "        else:\n",
        "            der = medio - 1\n",
        "\n",
        "    return -1"
      ],
      "metadata": {
        "id": "6E0LnW11bEI9"
      },
      "execution_count": null,
      "outputs": []
    },
    {
      "cell_type": "code",
      "source": [
        "busqueda_binaria([5,6,5,3,6,7,3,1,9], 0)"
      ],
      "metadata": {
        "colab": {
          "base_uri": "https://localhost:8080/"
        },
        "id": "IpVGt5uncrhm",
        "outputId": "233f74d8-a90d-4b8f-d0d6-6fc30bfa3b85"
      },
      "execution_count": null,
      "outputs": [
        {
          "output_type": "execute_result",
          "data": {
            "text/plain": [
              "-1"
            ]
          },
          "metadata": {},
          "execution_count": 96
        }
      ]
    }
  ]
}